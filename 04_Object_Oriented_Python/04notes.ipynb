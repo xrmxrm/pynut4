{
 "cells": [
  {
   "cell_type": "code",
   "execution_count": 1,
   "metadata": {},
   "outputs": [],
   "source": [
    "class Const:  # an overriding descriptor, see later\n",
    "    def __init__(self, value):\n",
    "        self.value = value\n",
    "\n",
    "    def __set__(self, *_):  # silently ignore any attempt at setting\n",
    "        pass\n",
    "\n",
    "    def __get__(self, *_):  # always return the constant value\n",
    "        return self.value\n",
    "\n",
    "    def __delete__(self, *_):  # const cannot be deleted\n",
    "        pass\n",
    "\n",
    "\n",
    "class X:\n",
    "    c = Const(23)\n"
   ]
  },
  {
   "cell_type": "code",
   "execution_count": 2,
   "metadata": {},
   "outputs": [
    {
     "name": "stdout",
     "output_type": "stream",
     "text": [
      "23\n"
     ]
    }
   ],
   "source": [
    "x = X()\n",
    "print(x.c)"
   ]
  },
  {
   "cell_type": "code",
   "execution_count": 3,
   "metadata": {},
   "outputs": [
    {
     "name": "stdout",
     "output_type": "stream",
     "text": [
      "23\n"
     ]
    }
   ],
   "source": [
    "x.c = 42\n",
    "print(x.c)"
   ]
  },
  {
   "cell_type": "code",
   "execution_count": 4,
   "metadata": {},
   "outputs": [
    {
     "name": "stdout",
     "output_type": "stream",
     "text": [
      "23\n"
     ]
    }
   ],
   "source": [
    "del x.c\n",
    "print(x.c)"
   ]
  },
  {
   "cell_type": "code",
   "execution_count": 5,
   "metadata": {},
   "outputs": [],
   "source": [
    "import logging\n",
    "\n",
    "logging.basicConfig(level=logging.INFO)\n",
    "\n",
    "class LoggedAgeAccess:\n",
    "\n",
    "    def __get__(self, obj, objtype=None):\n",
    "        value = obj._age\n",
    "        logging.info('Accessing %r giving %r', 'age', value)\n",
    "        return value\n",
    "\n",
    "    def __set__(self, obj, value):\n",
    "        logging.info('Updating %r to %r', 'age', value)\n",
    "        obj._age = value\n",
    "\n",
    "class Person:\n",
    "\n",
    "    age = LoggedAgeAccess()             # Descriptor instance\n",
    "\n",
    "    def __init__(self, name, age):\n",
    "        self.name = name                # Regular instance attribute\n",
    "        self.age = age                  # Calls __set__()\n",
    "\n",
    "    def birthday(self):\n",
    "        self.age += 1                   # Calls both __get__() and __set__()"
   ]
  },
  {
   "cell_type": "code",
   "execution_count": 6,
   "metadata": {},
   "outputs": [
    {
     "name": "stderr",
     "output_type": "stream",
     "text": [
      "INFO:root:Updating 'age' to 30\n"
     ]
    }
   ],
   "source": [
    "mary = Person('Mary M', 30) "
   ]
  },
  {
   "cell_type": "code",
   "execution_count": 7,
   "metadata": {},
   "outputs": [
    {
     "name": "stderr",
     "output_type": "stream",
     "text": [
      "INFO:root:Updating 'age' to 40\n"
     ]
    }
   ],
   "source": [
    "dave = Person('David D', 40)"
   ]
  },
  {
   "cell_type": "code",
   "execution_count": 8,
   "metadata": {},
   "outputs": [
    {
     "data": {
      "text/plain": [
       "{'name': 'Mary M', '_age': 30}"
      ]
     },
     "execution_count": 8,
     "metadata": {},
     "output_type": "execute_result"
    }
   ],
   "source": [
    "vars(mary)"
   ]
  },
  {
   "cell_type": "code",
   "execution_count": 9,
   "metadata": {},
   "outputs": [
    {
     "data": {
      "text/plain": [
       "{'name': 'David D', '_age': 40}"
      ]
     },
     "execution_count": 9,
     "metadata": {},
     "output_type": "execute_result"
    }
   ],
   "source": [
    "vars(dave)"
   ]
  },
  {
   "cell_type": "code",
   "execution_count": 10,
   "metadata": {},
   "outputs": [
    {
     "name": "stderr",
     "output_type": "stream",
     "text": [
      "INFO:root:Accessing 'age' giving 30\n"
     ]
    },
    {
     "data": {
      "text/plain": [
       "30"
      ]
     },
     "execution_count": 10,
     "metadata": {},
     "output_type": "execute_result"
    }
   ],
   "source": [
    "mary.age"
   ]
  },
  {
   "cell_type": "code",
   "execution_count": 11,
   "metadata": {},
   "outputs": [
    {
     "data": {
      "text/plain": [
       "'David D'"
      ]
     },
     "execution_count": 11,
     "metadata": {},
     "output_type": "execute_result"
    }
   ],
   "source": [
    "dave.name"
   ]
  },
  {
   "cell_type": "code",
   "execution_count": 12,
   "metadata": {},
   "outputs": [
    {
     "name": "stderr",
     "output_type": "stream",
     "text": [
      "INFO:root:Accessing 'age' giving 40\n"
     ]
    },
    {
     "data": {
      "text/plain": [
       "40"
      ]
     },
     "execution_count": 12,
     "metadata": {},
     "output_type": "execute_result"
    }
   ],
   "source": [
    "dave.age"
   ]
  },
  {
   "cell_type": "code",
   "execution_count": 13,
   "metadata": {},
   "outputs": [],
   "source": [
    "import logging\n",
    "\n",
    "logging.basicConfig(level=logging.INFO)\n",
    "\n",
    "class LoggedAccess:\n",
    "\n",
    "    def __set_name__(self, owner, name):\n",
    "        self.public_name = name\n",
    "        self.private_name = '_' + name\n",
    "\n",
    "    def __get__(self, obj, objtype=None):\n",
    "        value = getattr(obj, self.private_name)\n",
    "        logging.info('Accessing %r giving %r', self.public_name, value)\n",
    "        return value\n",
    "\n",
    "    def __set__(self, obj, value):\n",
    "        logging.info('Updating %r to %r', self.public_name, value)\n",
    "        setattr(obj, self.private_name, value)\n",
    "\n",
    "class Person:\n",
    "\n",
    "    name = LoggedAccess()                # First descriptor instance\n",
    "    age = LoggedAccess()                 # Second descriptor instance\n",
    "\n",
    "    def __init__(self, name, age):\n",
    "        self.name = name                 # Calls the first descriptor\n",
    "        self.age = age                   # Calls the second descriptor\n",
    "\n",
    "    def birthday(self):\n",
    "        self.age += 1"
   ]
  },
  {
   "cell_type": "code",
   "execution_count": 14,
   "metadata": {},
   "outputs": [
    {
     "data": {
      "text/plain": [
       "{'public_name': 'name', 'private_name': '_name'}"
      ]
     },
     "execution_count": 14,
     "metadata": {},
     "output_type": "execute_result"
    }
   ],
   "source": [
    "vars(vars(Person)['name'])"
   ]
  },
  {
   "cell_type": "code",
   "execution_count": 15,
   "metadata": {},
   "outputs": [
    {
     "name": "stderr",
     "output_type": "stream",
     "text": [
      "INFO:root:Updating 'name' to 'Peter P'\n",
      "INFO:root:Updating 'age' to 10\n"
     ]
    }
   ],
   "source": [
    "pete = Person('Peter P', 10)"
   ]
  },
  {
   "cell_type": "code",
   "execution_count": 16,
   "metadata": {},
   "outputs": [
    {
     "name": "stderr",
     "output_type": "stream",
     "text": [
      "INFO:root:Updating 'name' to 'Catherine C'\n",
      "INFO:root:Updating 'age' to 20\n"
     ]
    }
   ],
   "source": [
    "kate = Person('Catherine C', 20)"
   ]
  },
  {
   "cell_type": "code",
   "execution_count": 17,
   "metadata": {},
   "outputs": [
    {
     "data": {
      "text/plain": [
       "{'_name': 'Peter P', '_age': 10}"
      ]
     },
     "execution_count": 17,
     "metadata": {},
     "output_type": "execute_result"
    }
   ],
   "source": [
    "vars(pete)"
   ]
  },
  {
   "cell_type": "code",
   "execution_count": 18,
   "metadata": {},
   "outputs": [
    {
     "data": {
      "text/plain": [
       "{'_name': 'Catherine C', '_age': 20}"
      ]
     },
     "execution_count": 18,
     "metadata": {},
     "output_type": "execute_result"
    }
   ],
   "source": [
    "vars(kate)"
   ]
  },
  {
   "cell_type": "code",
   "execution_count": 19,
   "metadata": {},
   "outputs": [],
   "source": [
    "from abc import ABC, abstractmethod\n",
    "\n",
    "class Validator(ABC):\n",
    "\n",
    "    def __set_name__(self, owner, name):\n",
    "        self.private_name = '_' + name\n",
    "\n",
    "    def __get__(self, obj, objtype=None):\n",
    "        return getattr(obj, self.private_name)\n",
    "\n",
    "    def __set__(self, obj, value):\n",
    "        self.validate(value)\n",
    "        setattr(obj, self.private_name, value)\n",
    "\n",
    "    @abstractmethod\n",
    "    def validate(self, value):\n",
    "        pass"
   ]
  },
  {
   "cell_type": "code",
   "execution_count": 20,
   "metadata": {},
   "outputs": [],
   "source": [
    "class OneOf(Validator):\n",
    "\n",
    "    def __init__(self, *options):\n",
    "        self.options = set(options)\n",
    "\n",
    "    def validate(self, value):\n",
    "        if value not in self.options:\n",
    "            raise ValueError(f'Expected {value!r} to be one of {self.options!r}')\n",
    "\n",
    "class Number(Validator):\n",
    "\n",
    "    def __init__(self, minvalue=None, maxvalue=None):\n",
    "        self.minvalue = minvalue\n",
    "        self.maxvalue = maxvalue\n",
    "\n",
    "    def validate(self, value):\n",
    "        if not isinstance(value, (int, float)):\n",
    "            raise TypeError(f'Expected {value!r} to be an int or float')\n",
    "        if self.minvalue is not None and value < self.minvalue:\n",
    "            raise ValueError(\n",
    "                f'Expected {value!r} to be at least {self.minvalue!r}'\n",
    "            )\n",
    "        if self.maxvalue is not None and value > self.maxvalue:\n",
    "            raise ValueError(\n",
    "                f'Expected {value!r} to be no more than {self.maxvalue!r}'\n",
    "            )\n",
    "\n",
    "class String(Validator):\n",
    "\n",
    "    def __init__(self, minsize=None, maxsize=None, predicate=None):\n",
    "        self.minsize = minsize\n",
    "        self.maxsize = maxsize\n",
    "        self.predicate = predicate\n",
    "\n",
    "    def validate(self, value):\n",
    "        if not isinstance(value, str):\n",
    "            raise TypeError(f'Expected {value!r} to be an str')\n",
    "        if self.minsize is not None and len(value) < self.minsize:\n",
    "            raise ValueError(\n",
    "                f'Expected {value!r} to be no smaller than {self.minsize!r}'\n",
    "            )\n",
    "        if self.maxsize is not None and len(value) > self.maxsize:\n",
    "            raise ValueError(\n",
    "                f'Expected {value!r} to be no bigger than {self.maxsize!r}'\n",
    "            )\n",
    "        if self.predicate is not None and not self.predicate(value):\n",
    "            raise ValueError(\n",
    "                f'Expected {self.predicate} to be true for {value!r}'\n",
    "            )"
   ]
  },
  {
   "cell_type": "code",
   "execution_count": 21,
   "metadata": {},
   "outputs": [],
   "source": [
    "class Component:\n",
    "\n",
    "    name = String(minsize=3, maxsize=10, predicate=str.isupper)\n",
    "    kind = OneOf('wood', 'metal', 'plastic')\n",
    "    quantity = Number(minvalue=0)\n",
    "\n",
    "    def __init__(self, name, kind, quantity):\n",
    "        self.name = name\n",
    "        self.kind = kind\n",
    "        self.quantity = quantity"
   ]
  },
  {
   "cell_type": "code",
   "execution_count": 22,
   "metadata": {},
   "outputs": [
    {
     "ename": "ValueError",
     "evalue": "Expected <method 'isupper' of 'str' objects> to be true for 'Widget'",
     "output_type": "error",
     "traceback": [
      "\u001b[0;31m---------------------------------------------------------------------------\u001b[0m",
      "\u001b[0;31mValueError\u001b[0m                                Traceback (most recent call last)",
      "Cell \u001b[0;32mIn[22], line 1\u001b[0m\n\u001b[0;32m----> 1\u001b[0m Component(\u001b[39m'\u001b[39;49m\u001b[39mWidget\u001b[39;49m\u001b[39m'\u001b[39;49m, \u001b[39m'\u001b[39;49m\u001b[39mmetal\u001b[39;49m\u001b[39m'\u001b[39;49m, \u001b[39m5\u001b[39;49m)\n",
      "Cell \u001b[0;32mIn[21], line 8\u001b[0m, in \u001b[0;36mComponent.__init__\u001b[0;34m(self, name, kind, quantity)\u001b[0m\n\u001b[1;32m      7\u001b[0m \u001b[39mdef\u001b[39;00m \u001b[39m__init__\u001b[39m(\u001b[39mself\u001b[39m, name, kind, quantity):\n\u001b[0;32m----> 8\u001b[0m     \u001b[39mself\u001b[39;49m\u001b[39m.\u001b[39;49mname \u001b[39m=\u001b[39m name\n\u001b[1;32m      9\u001b[0m     \u001b[39mself\u001b[39m\u001b[39m.\u001b[39mkind \u001b[39m=\u001b[39m kind\n\u001b[1;32m     10\u001b[0m     \u001b[39mself\u001b[39m\u001b[39m.\u001b[39mquantity \u001b[39m=\u001b[39m quantity\n",
      "Cell \u001b[0;32mIn[19], line 12\u001b[0m, in \u001b[0;36mValidator.__set__\u001b[0;34m(self, obj, value)\u001b[0m\n\u001b[1;32m     11\u001b[0m \u001b[39mdef\u001b[39;00m \u001b[39m__set__\u001b[39m(\u001b[39mself\u001b[39m, obj, value):\n\u001b[0;32m---> 12\u001b[0m     \u001b[39mself\u001b[39;49m\u001b[39m.\u001b[39;49mvalidate(value)\n\u001b[1;32m     13\u001b[0m     \u001b[39msetattr\u001b[39m(obj, \u001b[39mself\u001b[39m\u001b[39m.\u001b[39mprivate_name, value)\n",
      "Cell \u001b[0;32mIn[20], line 47\u001b[0m, in \u001b[0;36mString.validate\u001b[0;34m(self, value)\u001b[0m\n\u001b[1;32m     43\u001b[0m     \u001b[39mraise\u001b[39;00m \u001b[39mValueError\u001b[39;00m(\n\u001b[1;32m     44\u001b[0m         \u001b[39mf\u001b[39m\u001b[39m'\u001b[39m\u001b[39mExpected \u001b[39m\u001b[39m{\u001b[39;00mvalue\u001b[39m!r}\u001b[39;00m\u001b[39m to be no bigger than \u001b[39m\u001b[39m{\u001b[39;00m\u001b[39mself\u001b[39m\u001b[39m.\u001b[39mmaxsize\u001b[39m!r}\u001b[39;00m\u001b[39m'\u001b[39m\n\u001b[1;32m     45\u001b[0m     )\n\u001b[1;32m     46\u001b[0m \u001b[39mif\u001b[39;00m \u001b[39mself\u001b[39m\u001b[39m.\u001b[39mpredicate \u001b[39mis\u001b[39;00m \u001b[39mnot\u001b[39;00m \u001b[39mNone\u001b[39;00m \u001b[39mand\u001b[39;00m \u001b[39mnot\u001b[39;00m \u001b[39mself\u001b[39m\u001b[39m.\u001b[39mpredicate(value):\n\u001b[0;32m---> 47\u001b[0m     \u001b[39mraise\u001b[39;00m \u001b[39mValueError\u001b[39;00m(\n\u001b[1;32m     48\u001b[0m         \u001b[39mf\u001b[39m\u001b[39m'\u001b[39m\u001b[39mExpected \u001b[39m\u001b[39m{\u001b[39;00m\u001b[39mself\u001b[39m\u001b[39m.\u001b[39mpredicate\u001b[39m}\u001b[39;00m\u001b[39m to be true for \u001b[39m\u001b[39m{\u001b[39;00mvalue\u001b[39m!r}\u001b[39;00m\u001b[39m'\u001b[39m\n\u001b[1;32m     49\u001b[0m     )\n",
      "\u001b[0;31mValueError\u001b[0m: Expected <method 'isupper' of 'str' objects> to be true for 'Widget'"
     ]
    }
   ],
   "source": [
    "Component('Widget', 'metal', 5)"
   ]
  },
  {
   "cell_type": "code",
   "execution_count": 23,
   "metadata": {},
   "outputs": [
    {
     "ename": "ValueError",
     "evalue": "Expected 'metle' to be one of {'wood', 'plastic', 'metal'}",
     "output_type": "error",
     "traceback": [
      "\u001b[0;31m---------------------------------------------------------------------------\u001b[0m",
      "\u001b[0;31mValueError\u001b[0m                                Traceback (most recent call last)",
      "Cell \u001b[0;32mIn[23], line 1\u001b[0m\n\u001b[0;32m----> 1\u001b[0m Component(\u001b[39m'\u001b[39;49m\u001b[39mWIDGET\u001b[39;49m\u001b[39m'\u001b[39;49m, \u001b[39m'\u001b[39;49m\u001b[39mmetle\u001b[39;49m\u001b[39m'\u001b[39;49m, \u001b[39m5\u001b[39;49m)\n",
      "Cell \u001b[0;32mIn[21], line 9\u001b[0m, in \u001b[0;36mComponent.__init__\u001b[0;34m(self, name, kind, quantity)\u001b[0m\n\u001b[1;32m      7\u001b[0m \u001b[39mdef\u001b[39;00m \u001b[39m__init__\u001b[39m(\u001b[39mself\u001b[39m, name, kind, quantity):\n\u001b[1;32m      8\u001b[0m     \u001b[39mself\u001b[39m\u001b[39m.\u001b[39mname \u001b[39m=\u001b[39m name\n\u001b[0;32m----> 9\u001b[0m     \u001b[39mself\u001b[39;49m\u001b[39m.\u001b[39;49mkind \u001b[39m=\u001b[39m kind\n\u001b[1;32m     10\u001b[0m     \u001b[39mself\u001b[39m\u001b[39m.\u001b[39mquantity \u001b[39m=\u001b[39m quantity\n",
      "Cell \u001b[0;32mIn[19], line 12\u001b[0m, in \u001b[0;36mValidator.__set__\u001b[0;34m(self, obj, value)\u001b[0m\n\u001b[1;32m     11\u001b[0m \u001b[39mdef\u001b[39;00m \u001b[39m__set__\u001b[39m(\u001b[39mself\u001b[39m, obj, value):\n\u001b[0;32m---> 12\u001b[0m     \u001b[39mself\u001b[39;49m\u001b[39m.\u001b[39;49mvalidate(value)\n\u001b[1;32m     13\u001b[0m     \u001b[39msetattr\u001b[39m(obj, \u001b[39mself\u001b[39m\u001b[39m.\u001b[39mprivate_name, value)\n",
      "Cell \u001b[0;32mIn[20], line 8\u001b[0m, in \u001b[0;36mOneOf.validate\u001b[0;34m(self, value)\u001b[0m\n\u001b[1;32m      6\u001b[0m \u001b[39mdef\u001b[39;00m \u001b[39mvalidate\u001b[39m(\u001b[39mself\u001b[39m, value):\n\u001b[1;32m      7\u001b[0m     \u001b[39mif\u001b[39;00m value \u001b[39mnot\u001b[39;00m \u001b[39min\u001b[39;00m \u001b[39mself\u001b[39m\u001b[39m.\u001b[39moptions:\n\u001b[0;32m----> 8\u001b[0m         \u001b[39mraise\u001b[39;00m \u001b[39mValueError\u001b[39;00m(\u001b[39mf\u001b[39m\u001b[39m'\u001b[39m\u001b[39mExpected \u001b[39m\u001b[39m{\u001b[39;00mvalue\u001b[39m!r}\u001b[39;00m\u001b[39m to be one of \u001b[39m\u001b[39m{\u001b[39;00m\u001b[39mself\u001b[39m\u001b[39m.\u001b[39moptions\u001b[39m!r}\u001b[39;00m\u001b[39m'\u001b[39m)\n",
      "\u001b[0;31mValueError\u001b[0m: Expected 'metle' to be one of {'wood', 'plastic', 'metal'}"
     ]
    }
   ],
   "source": [
    "Component('WIDGET', 'metle', 5)"
   ]
  },
  {
   "cell_type": "code",
   "execution_count": 24,
   "metadata": {},
   "outputs": [
    {
     "ename": "ValueError",
     "evalue": "Expected -5 to be at least 0",
     "output_type": "error",
     "traceback": [
      "\u001b[0;31m---------------------------------------------------------------------------\u001b[0m",
      "\u001b[0;31mValueError\u001b[0m                                Traceback (most recent call last)",
      "Cell \u001b[0;32mIn[24], line 1\u001b[0m\n\u001b[0;32m----> 1\u001b[0m Component(\u001b[39m'\u001b[39;49m\u001b[39mWIDGET\u001b[39;49m\u001b[39m'\u001b[39;49m, \u001b[39m'\u001b[39;49m\u001b[39mmetal\u001b[39;49m\u001b[39m'\u001b[39;49m, \u001b[39m-\u001b[39;49m\u001b[39m5\u001b[39;49m)\n",
      "Cell \u001b[0;32mIn[21], line 10\u001b[0m, in \u001b[0;36mComponent.__init__\u001b[0;34m(self, name, kind, quantity)\u001b[0m\n\u001b[1;32m      8\u001b[0m \u001b[39mself\u001b[39m\u001b[39m.\u001b[39mname \u001b[39m=\u001b[39m name\n\u001b[1;32m      9\u001b[0m \u001b[39mself\u001b[39m\u001b[39m.\u001b[39mkind \u001b[39m=\u001b[39m kind\n\u001b[0;32m---> 10\u001b[0m \u001b[39mself\u001b[39;49m\u001b[39m.\u001b[39;49mquantity \u001b[39m=\u001b[39m quantity\n",
      "Cell \u001b[0;32mIn[19], line 12\u001b[0m, in \u001b[0;36mValidator.__set__\u001b[0;34m(self, obj, value)\u001b[0m\n\u001b[1;32m     11\u001b[0m \u001b[39mdef\u001b[39;00m \u001b[39m__set__\u001b[39m(\u001b[39mself\u001b[39m, obj, value):\n\u001b[0;32m---> 12\u001b[0m     \u001b[39mself\u001b[39;49m\u001b[39m.\u001b[39;49mvalidate(value)\n\u001b[1;32m     13\u001b[0m     \u001b[39msetattr\u001b[39m(obj, \u001b[39mself\u001b[39m\u001b[39m.\u001b[39mprivate_name, value)\n",
      "Cell \u001b[0;32mIn[20], line 20\u001b[0m, in \u001b[0;36mNumber.validate\u001b[0;34m(self, value)\u001b[0m\n\u001b[1;32m     18\u001b[0m     \u001b[39mraise\u001b[39;00m \u001b[39mTypeError\u001b[39;00m(\u001b[39mf\u001b[39m\u001b[39m'\u001b[39m\u001b[39mExpected \u001b[39m\u001b[39m{\u001b[39;00mvalue\u001b[39m!r}\u001b[39;00m\u001b[39m to be an int or float\u001b[39m\u001b[39m'\u001b[39m)\n\u001b[1;32m     19\u001b[0m \u001b[39mif\u001b[39;00m \u001b[39mself\u001b[39m\u001b[39m.\u001b[39mminvalue \u001b[39mis\u001b[39;00m \u001b[39mnot\u001b[39;00m \u001b[39mNone\u001b[39;00m \u001b[39mand\u001b[39;00m value \u001b[39m<\u001b[39m \u001b[39mself\u001b[39m\u001b[39m.\u001b[39mminvalue:\n\u001b[0;32m---> 20\u001b[0m     \u001b[39mraise\u001b[39;00m \u001b[39mValueError\u001b[39;00m(\n\u001b[1;32m     21\u001b[0m         \u001b[39mf\u001b[39m\u001b[39m'\u001b[39m\u001b[39mExpected \u001b[39m\u001b[39m{\u001b[39;00mvalue\u001b[39m!r}\u001b[39;00m\u001b[39m to be at least \u001b[39m\u001b[39m{\u001b[39;00m\u001b[39mself\u001b[39m\u001b[39m.\u001b[39mminvalue\u001b[39m!r}\u001b[39;00m\u001b[39m'\u001b[39m\n\u001b[1;32m     22\u001b[0m     )\n\u001b[1;32m     23\u001b[0m \u001b[39mif\u001b[39;00m \u001b[39mself\u001b[39m\u001b[39m.\u001b[39mmaxvalue \u001b[39mis\u001b[39;00m \u001b[39mnot\u001b[39;00m \u001b[39mNone\u001b[39;00m \u001b[39mand\u001b[39;00m value \u001b[39m>\u001b[39m \u001b[39mself\u001b[39m\u001b[39m.\u001b[39mmaxvalue:\n\u001b[1;32m     24\u001b[0m     \u001b[39mraise\u001b[39;00m \u001b[39mValueError\u001b[39;00m(\n\u001b[1;32m     25\u001b[0m         \u001b[39mf\u001b[39m\u001b[39m'\u001b[39m\u001b[39mExpected \u001b[39m\u001b[39m{\u001b[39;00mvalue\u001b[39m!r}\u001b[39;00m\u001b[39m to be no more than \u001b[39m\u001b[39m{\u001b[39;00m\u001b[39mself\u001b[39m\u001b[39m.\u001b[39mmaxvalue\u001b[39m!r}\u001b[39;00m\u001b[39m'\u001b[39m\n\u001b[1;32m     26\u001b[0m     )\n",
      "\u001b[0;31mValueError\u001b[0m: Expected -5 to be at least 0"
     ]
    }
   ],
   "source": [
    "Component('WIDGET', 'metal', -5)"
   ]
  },
  {
   "cell_type": "code",
   "execution_count": 25,
   "metadata": {},
   "outputs": [
    {
     "ename": "TypeError",
     "evalue": "Expected 'V' to be an int or float",
     "output_type": "error",
     "traceback": [
      "\u001b[0;31m---------------------------------------------------------------------------\u001b[0m",
      "\u001b[0;31mTypeError\u001b[0m                                 Traceback (most recent call last)",
      "Cell \u001b[0;32mIn[25], line 1\u001b[0m\n\u001b[0;32m----> 1\u001b[0m Component(\u001b[39m'\u001b[39;49m\u001b[39mWIDGET\u001b[39;49m\u001b[39m'\u001b[39;49m, \u001b[39m'\u001b[39;49m\u001b[39mmetal\u001b[39;49m\u001b[39m'\u001b[39;49m, \u001b[39m'\u001b[39;49m\u001b[39mV\u001b[39;49m\u001b[39m'\u001b[39;49m)\n",
      "Cell \u001b[0;32mIn[21], line 10\u001b[0m, in \u001b[0;36mComponent.__init__\u001b[0;34m(self, name, kind, quantity)\u001b[0m\n\u001b[1;32m      8\u001b[0m \u001b[39mself\u001b[39m\u001b[39m.\u001b[39mname \u001b[39m=\u001b[39m name\n\u001b[1;32m      9\u001b[0m \u001b[39mself\u001b[39m\u001b[39m.\u001b[39mkind \u001b[39m=\u001b[39m kind\n\u001b[0;32m---> 10\u001b[0m \u001b[39mself\u001b[39;49m\u001b[39m.\u001b[39;49mquantity \u001b[39m=\u001b[39m quantity\n",
      "Cell \u001b[0;32mIn[19], line 12\u001b[0m, in \u001b[0;36mValidator.__set__\u001b[0;34m(self, obj, value)\u001b[0m\n\u001b[1;32m     11\u001b[0m \u001b[39mdef\u001b[39;00m \u001b[39m__set__\u001b[39m(\u001b[39mself\u001b[39m, obj, value):\n\u001b[0;32m---> 12\u001b[0m     \u001b[39mself\u001b[39;49m\u001b[39m.\u001b[39;49mvalidate(value)\n\u001b[1;32m     13\u001b[0m     \u001b[39msetattr\u001b[39m(obj, \u001b[39mself\u001b[39m\u001b[39m.\u001b[39mprivate_name, value)\n",
      "Cell \u001b[0;32mIn[20], line 18\u001b[0m, in \u001b[0;36mNumber.validate\u001b[0;34m(self, value)\u001b[0m\n\u001b[1;32m     16\u001b[0m \u001b[39mdef\u001b[39;00m \u001b[39mvalidate\u001b[39m(\u001b[39mself\u001b[39m, value):\n\u001b[1;32m     17\u001b[0m     \u001b[39mif\u001b[39;00m \u001b[39mnot\u001b[39;00m \u001b[39misinstance\u001b[39m(value, (\u001b[39mint\u001b[39m, \u001b[39mfloat\u001b[39m)):\n\u001b[0;32m---> 18\u001b[0m         \u001b[39mraise\u001b[39;00m \u001b[39mTypeError\u001b[39;00m(\u001b[39mf\u001b[39m\u001b[39m'\u001b[39m\u001b[39mExpected \u001b[39m\u001b[39m{\u001b[39;00mvalue\u001b[39m!r}\u001b[39;00m\u001b[39m to be an int or float\u001b[39m\u001b[39m'\u001b[39m)\n\u001b[1;32m     19\u001b[0m     \u001b[39mif\u001b[39;00m \u001b[39mself\u001b[39m\u001b[39m.\u001b[39mminvalue \u001b[39mis\u001b[39;00m \u001b[39mnot\u001b[39;00m \u001b[39mNone\u001b[39;00m \u001b[39mand\u001b[39;00m value \u001b[39m<\u001b[39m \u001b[39mself\u001b[39m\u001b[39m.\u001b[39mminvalue:\n\u001b[1;32m     20\u001b[0m         \u001b[39mraise\u001b[39;00m \u001b[39mValueError\u001b[39;00m(\n\u001b[1;32m     21\u001b[0m             \u001b[39mf\u001b[39m\u001b[39m'\u001b[39m\u001b[39mExpected \u001b[39m\u001b[39m{\u001b[39;00mvalue\u001b[39m!r}\u001b[39;00m\u001b[39m to be at least \u001b[39m\u001b[39m{\u001b[39;00m\u001b[39mself\u001b[39m\u001b[39m.\u001b[39mminvalue\u001b[39m!r}\u001b[39;00m\u001b[39m'\u001b[39m\n\u001b[1;32m     22\u001b[0m         )\n",
      "\u001b[0;31mTypeError\u001b[0m: Expected 'V' to be an int or float"
     ]
    }
   ],
   "source": [
    "Component('WIDGET', 'metal', 'V')"
   ]
  },
  {
   "cell_type": "code",
   "execution_count": 27,
   "metadata": {},
   "outputs": [],
   "source": [
    "class C6:\n",
    "    def __init__(self, n): self.x = n\n",
    "\n",
    "inst = C6(42)"
   ]
  },
  {
   "cell_type": "code",
   "execution_count": 28,
   "metadata": {},
   "outputs": [
    {
     "data": {
      "text/plain": [
       "42"
      ]
     },
     "execution_count": 28,
     "metadata": {},
     "output_type": "execute_result"
    }
   ],
   "source": [
    "inst.x"
   ]
  },
  {
   "cell_type": "code",
   "execution_count": 29,
   "metadata": {},
   "outputs": [
    {
     "name": "stdout",
     "output_type": "stream",
     "text": [
      "23\n"
     ]
    }
   ],
   "source": [
    "class C7:\n",
    "    pass\n",
    "z = C7()\n",
    "z.x = 23\n",
    "print(z.x)"
   ]
  },
  {
   "cell_type": "code",
   "execution_count": 30,
   "metadata": {},
   "outputs": [
    {
     "name": "stdout",
     "output_type": "stream",
     "text": [
      "C7 {'x': 23}\n"
     ]
    }
   ],
   "source": [
    "print(z.__class__.__name__, z.__dict__)"
   ]
  },
  {
   "cell_type": "code",
   "execution_count": 31,
   "metadata": {},
   "outputs": [
    {
     "name": "stdout",
     "output_type": "stream",
     "text": [
      "23 45 67\n"
     ]
    }
   ],
   "source": [
    "z.y = 45\n",
    "z.__dict__['z'] = 67\n",
    "print(z.x, z.y, z.z)"
   ]
  },
  {
   "cell_type": "code",
   "execution_count": 32,
   "metadata": {},
   "outputs": [
    {
     "name": "stdout",
     "output_type": "stream",
     "text": [
      "special\n"
     ]
    }
   ],
   "source": [
    "class SpecialCase:\n",
    "    def amethod(self):\n",
    "        print('special')\n",
    "class NormalCase:\n",
    "    def amethod(self):\n",
    "        print('normal')\n",
    "def appropriate_case(isnormal=True):\n",
    "    if isnormal:\n",
    "        return NormalCase()\n",
    "    else:\n",
    "        return SpecialCase()\n",
    "aninstance = appropriate_case(isnormal=False)\n",
    "aninstance.amethod() "
   ]
  },
  {
   "cell_type": "code",
   "execution_count": 33,
   "metadata": {},
   "outputs": [],
   "source": [
    "class Singleton:\n",
    "    _singletons = {}\n",
    "    def __new__(cls, *args, **kwds):\n",
    "        if cls not in cls._singletons:\n",
    "            cls._singletons[cls] = obj = super().__new__(cls)\n",
    "            obj._initialized = False\n",
    "        return cls._singletons[cls]"
   ]
  },
  {
   "cell_type": "code",
   "execution_count": 34,
   "metadata": {},
   "outputs": [],
   "source": [
    "class S1(Singleton):pass"
   ]
  },
  {
   "cell_type": "code",
   "execution_count": 42,
   "metadata": {},
   "outputs": [
    {
     "data": {
      "text/plain": [
       "False"
      ]
     },
     "execution_count": 42,
     "metadata": {},
     "output_type": "execute_result"
    }
   ],
   "source": [
    "s1 = S1()\n",
    "s2 = S1()\n",
    "s1._initialized"
   ]
  },
  {
   "cell_type": "code",
   "execution_count": 43,
   "metadata": {},
   "outputs": [
    {
     "name": "stdout",
     "output_type": "stream",
     "text": [
      "<__main__.S1 object at 0x7fe0d0f22530> <__main__.S1 object at 0x7fe0d0f22530>\n"
     ]
    }
   ],
   "source": [
    "print(s1, s2)"
   ]
  },
  {
   "cell_type": "code",
   "execution_count": 44,
   "metadata": {},
   "outputs": [
    {
     "data": {
      "text/plain": [
       "True"
      ]
     },
     "execution_count": 44,
     "metadata": {},
     "output_type": "execute_result"
    }
   ],
   "source": [
    "s1 is s2"
   ]
  },
  {
   "cell_type": "code",
   "execution_count": 45,
   "metadata": {},
   "outputs": [
    {
     "data": {
      "text/plain": [
       "{__main__.S1: <__main__.S1 at 0x7fe0d0f22530>}"
      ]
     },
     "execution_count": 45,
     "metadata": {},
     "output_type": "execute_result"
    }
   ],
   "source": [
    "Singleton._singletons"
   ]
  },
  {
   "cell_type": "code",
   "execution_count": 46,
   "metadata": {},
   "outputs": [],
   "source": [
    "class B:\n",
    "    a = 23\n",
    "    b = 45\n",
    "    def f(self):\n",
    "        print('method f in class B')\n",
    "    def g(self):\n",
    "        print('method g in class B')\n",
    "class C(B):\n",
    "    b = 67\n",
    "    c = 89\n",
    "    d = 123\n",
    "    def g(self):\n",
    "        print('method g in class C')\n",
    "    def h(self):\n",
    "        print('method h in class C')\n",
    "x = C()\n",
    "x.d = 77\n",
    "x.e = 88"
   ]
  },
  {
   "cell_type": "code",
   "execution_count": 50,
   "metadata": {},
   "outputs": [
    {
     "name": "stdout",
     "output_type": "stream",
     "text": [
      "23 67 89 77 88\n"
     ]
    }
   ],
   "source": [
    "print(x.a, x.b, x.c, x.d, x.e)"
   ]
  },
  {
   "cell_type": "code",
   "execution_count": 51,
   "metadata": {},
   "outputs": [
    {
     "name": "stdout",
     "output_type": "stream",
     "text": [
      "method f in class B\n",
      "method g in class C\n",
      "method h in class C\n"
     ]
    }
   ],
   "source": [
    "x.f(); x.g(); x.h()"
   ]
  },
  {
   "cell_type": "code",
   "execution_count": 52,
   "metadata": {},
   "outputs": [],
   "source": [
    "x.f = lambda x: x*x"
   ]
  },
  {
   "cell_type": "code",
   "execution_count": 53,
   "metadata": {},
   "outputs": [
    {
     "data": {
      "text/plain": [
       "16"
      ]
     },
     "execution_count": 53,
     "metadata": {},
     "output_type": "execute_result"
    }
   ],
   "source": [
    "x.f(4)"
   ]
  },
  {
   "cell_type": "code",
   "execution_count": 54,
   "metadata": {},
   "outputs": [
    {
     "data": {
      "text/plain": [
       "__main__.C"
      ]
     },
     "execution_count": 54,
     "metadata": {},
     "output_type": "execute_result"
    }
   ],
   "source": [
    "x.__class__"
   ]
  },
  {
   "cell_type": "code",
   "execution_count": 56,
   "metadata": {},
   "outputs": [
    {
     "data": {
      "text/plain": [
       "(__main__.B,)"
      ]
     },
     "execution_count": 56,
     "metadata": {},
     "output_type": "execute_result"
    }
   ],
   "source": [
    "C.__bases__"
   ]
  },
  {
   "cell_type": "code",
   "execution_count": 57,
   "metadata": {},
   "outputs": [
    {
     "data": {
      "text/plain": [
       "(__main__.B,)"
      ]
     },
     "execution_count": 57,
     "metadata": {},
     "output_type": "execute_result"
    }
   ],
   "source": [
    "x.__class__.__bases__"
   ]
  },
  {
   "cell_type": "code",
   "execution_count": 58,
   "metadata": {},
   "outputs": [
    {
     "data": {
      "text/plain": [
       "mappingproxy({'__module__': '__main__',\n",
       "              'b': 67,\n",
       "              'c': 89,\n",
       "              'd': 123,\n",
       "              'g': <function __main__.C.g(self)>,\n",
       "              'h': <function __main__.C.h(self)>,\n",
       "              '__doc__': None})"
      ]
     },
     "execution_count": 58,
     "metadata": {},
     "output_type": "execute_result"
    }
   ],
   "source": [
    "C.__dict__"
   ]
  },
  {
   "cell_type": "code",
   "execution_count": 59,
   "metadata": {},
   "outputs": [
    {
     "data": {
      "text/plain": [
       "{'d': 77, 'e': 88, 'f': <function __main__.<lambda>(x)>}"
      ]
     },
     "execution_count": 59,
     "metadata": {},
     "output_type": "execute_result"
    }
   ],
   "source": [
    "x.__dict__"
   ]
  },
  {
   "cell_type": "code",
   "execution_count": 61,
   "metadata": {},
   "outputs": [
    {
     "name": "stdout",
     "output_type": "stream",
     "text": [
      "<bound method C.h of <__main__.C object at 0x7fe0d0f3b520>> <bound method C.g of <__main__.C object at 0x7fe0d0f3b520>> <function <lambda> at 0x7fe0d0b68dc0> <function C.h at 0x7fe0d0b6a8c0> <function C.g at 0x7fe0d0b6acb0> <function B.f at 0x7fe0d0b6af80>\n"
     ]
    }
   ],
   "source": [
    "print(x.h, x.g, x.f, C.h, C.g, C.f)"
   ]
  },
  {
   "cell_type": "code",
   "execution_count": 62,
   "metadata": {},
   "outputs": [
    {
     "name": "stdout",
     "output_type": "stream",
     "text": [
      "method h in class C\n"
     ]
    }
   ],
   "source": [
    "x.h()"
   ]
  },
  {
   "cell_type": "code",
   "execution_count": 63,
   "metadata": {},
   "outputs": [],
   "source": [
    "class B:\n",
    "    a = 23\n",
    "    b = 45\n",
    "    def f(self):\n",
    "        print('method f in class B')\n",
    "    def g(self):\n",
    "        print('method g in class B')\n",
    "class C(B):\n",
    "    b = 67\n",
    "    c = 89\n",
    "    d = 123\n",
    "    def g(self):\n",
    "        print('method g in class C')\n",
    "    def h(self):\n",
    "        print('method h in class C')"
   ]
  },
  {
   "cell_type": "code",
   "execution_count": 64,
   "metadata": {},
   "outputs": [
    {
     "name": "stdout",
     "output_type": "stream",
     "text": [
      "method g in class C\n"
     ]
    }
   ],
   "source": [
    "x = C()\n",
    "x.g()"
   ]
  },
  {
   "cell_type": "code",
   "execution_count": 65,
   "metadata": {},
   "outputs": [
    {
     "data": {
      "text/plain": [
       "67"
      ]
     },
     "execution_count": 65,
     "metadata": {},
     "output_type": "execute_result"
    }
   ],
   "source": [
    "x.b"
   ]
  },
  {
   "cell_type": "code",
   "execution_count": 66,
   "metadata": {},
   "outputs": [
    {
     "data": {
      "text/plain": [
       "23"
      ]
     },
     "execution_count": 66,
     "metadata": {},
     "output_type": "execute_result"
    }
   ],
   "source": [
    "x.a"
   ]
  },
  {
   "cell_type": "code",
   "execution_count": 67,
   "metadata": {},
   "outputs": [
    {
     "name": "stdout",
     "output_type": "stream",
     "text": [
      "Well Met and Welcome Alex\n"
     ]
    }
   ],
   "source": [
    "class Base:\n",
    "    def greet(self, name):\n",
    "        print('Welcome', name)\n",
    "class Sub(Base):\n",
    "    def greet(self, name):\n",
    "        print('Well Met and', end=' ')\n",
    "        Base.greet(self, name)\n",
    "x = Sub()\n",
    "x.greet('Alex')"
   ]
  },
  {
   "cell_type": "code",
   "execution_count": 68,
   "metadata": {},
   "outputs": [],
   "source": [
    "class A:\n",
    "    def met(self):\n",
    "        print('A.met')\n",
    "class B(A):\n",
    "    def met(self):\n",
    "        print('B.met')\n",
    "        A.met(self)\n",
    "class C(A):\n",
    "    def met(self):\n",
    "        print('C.met')\n",
    "        A.met(self)\n",
    "class D(B,C):\n",
    "    def met(self):\n",
    "        print('D.met')\n",
    "        B.met(self)\n",
    "        C.met(self)"
   ]
  },
  {
   "cell_type": "code",
   "execution_count": 69,
   "metadata": {},
   "outputs": [],
   "source": [
    "class A:\n",
    "    def met(self):\n",
    "        print('A.met')\n",
    "class B(A):\n",
    "    def met(self):\n",
    "        print('B.met')\n",
    "        super().met()\n",
    "class C(A):\n",
    "    def met(self):\n",
    "        print('C.met')\n",
    "        super().met()\n",
    "class D(B,C):\n",
    "    def met(self):\n",
    "        print('D.met')\n",
    "        super().met()"
   ]
  },
  {
   "cell_type": "code",
   "execution_count": 73,
   "metadata": {},
   "outputs": [],
   "source": [
    "class AClass:\n",
    "    def astatic():\n",
    "        print('a static method')\n",
    "    astatic = staticmethod(astatic)\n",
    "\n",
    "\n",
    "class ABase:\n",
    "    def aclassmet(cls):\n",
    "        print('a class method for', cls.__name__)\n",
    "    aclassmet = classmethod(aclassmet)\n",
    "class ADeriv(ABase):\n",
    "    pass\n"
   ]
  },
  {
   "cell_type": "code",
   "execution_count": 75,
   "metadata": {},
   "outputs": [
    {
     "name": "stdout",
     "output_type": "stream",
     "text": [
      "a static method\n",
      "None\n",
      "a class method for ABase\n",
      "None\n"
     ]
    }
   ],
   "source": [
    "print(AClass.astatic())\n",
    "print(ABase.aclassmet())"
   ]
  },
  {
   "cell_type": "code",
   "execution_count": 76,
   "metadata": {},
   "outputs": [],
   "source": [
    "class Rectangle:\n",
    "    def __init__(self, width, height):\n",
    "        self.width = width\n",
    "        self.height = height\n",
    "    def area(self):\n",
    "        return self.width * self.height\n",
    "    area = property(area, doc='area of the rectangle')"
   ]
  },
  {
   "cell_type": "code",
   "execution_count": 77,
   "metadata": {},
   "outputs": [
    {
     "data": {
      "text/plain": [
       "800"
      ]
     },
     "execution_count": 77,
     "metadata": {},
     "output_type": "execute_result"
    }
   ],
   "source": [
    "r = Rectangle(20,40)\n",
    "r.area"
   ]
  },
  {
   "cell_type": "code",
   "execution_count": 78,
   "metadata": {},
   "outputs": [
    {
     "ename": "TypeError",
     "evalue": "'int' object is not callable",
     "output_type": "error",
     "traceback": [
      "\u001b[0;31m---------------------------------------------------------------------------\u001b[0m",
      "\u001b[0;31mTypeError\u001b[0m                                 Traceback (most recent call last)",
      "Cell \u001b[0;32mIn[78], line 1\u001b[0m\n\u001b[0;32m----> 1\u001b[0m r\u001b[39m.\u001b[39;49marea()\n",
      "\u001b[0;31mTypeError\u001b[0m: 'int' object is not callable"
     ]
    }
   ],
   "source": [
    "r.area()"
   ]
  },
  {
   "cell_type": "code",
   "execution_count": 79,
   "metadata": {},
   "outputs": [
    {
     "data": {
      "text/plain": [
       "{'width': 20, 'height': 40}"
      ]
     },
     "execution_count": 79,
     "metadata": {},
     "output_type": "execute_result"
    }
   ],
   "source": [
    "r.__dict__"
   ]
  },
  {
   "cell_type": "code",
   "execution_count": 81,
   "metadata": {},
   "outputs": [],
   "source": [
    "import math\n",
    "class Rectangle:\n",
    "    def __init__(self, width, height):\n",
    "        self.width = width\n",
    "        self.height = height\n",
    "    @property\n",
    "    def area(self):\n",
    "        \"\"\"area of the rectangle\"\"\"\n",
    "        return self.width * self.height\n",
    "    @area.setter\n",
    "    def area(self, value):\n",
    "        scale = math.sqrt(value/self.area)\n",
    "        self.width *= scale\n",
    "        self.height *= scale"
   ]
  },
  {
   "cell_type": "code",
   "execution_count": 82,
   "metadata": {},
   "outputs": [
    {
     "data": {
      "text/plain": [
       "800"
      ]
     },
     "execution_count": 82,
     "metadata": {},
     "output_type": "execute_result"
    }
   ],
   "source": [
    "r = Rectangle(20,40)\n",
    "r.area"
   ]
  },
  {
   "cell_type": "code",
   "execution_count": 83,
   "metadata": {},
   "outputs": [],
   "source": [
    "r.area = 600"
   ]
  },
  {
   "cell_type": "code",
   "execution_count": 84,
   "metadata": {},
   "outputs": [
    {
     "data": {
      "text/plain": [
       "(17.32050807568877, 34.64101615137754)"
      ]
     },
     "execution_count": 84,
     "metadata": {},
     "output_type": "execute_result"
    }
   ],
   "source": [
    "r.width, r.height"
   ]
  },
  {
   "cell_type": "code",
   "execution_count": 85,
   "metadata": {},
   "outputs": [
    {
     "name": "stdout",
     "output_type": "stream",
     "text": [
      "23\n"
     ]
    }
   ],
   "source": [
    "class B:\n",
    "    def f(self):\n",
    "        return 23\n",
    "    g = property(f)\n",
    "class C(B):\n",
    "    def f(self):\n",
    "        return 42\n",
    "\n",
    "c = C()\n",
    "print(c.g)               "
   ]
  },
  {
   "cell_type": "code",
   "execution_count": 86,
   "metadata": {},
   "outputs": [
    {
     "name": "stdout",
     "output_type": "stream",
     "text": [
      "42\n"
     ]
    }
   ],
   "source": [
    "class B:\n",
    "    def f(self):\n",
    "        return 23\n",
    "    def _f_getter(self):\n",
    "        return self.f()\n",
    "    g = property(_f_getter)\n",
    "class C(B):\n",
    "    def f(self):\n",
    "        return 42\n",
    "\n",
    "c = C()\n",
    "print(c.g)"
   ]
  },
  {
   "cell_type": "code",
   "execution_count": 87,
   "metadata": {},
   "outputs": [],
   "source": [
    "class listNoAppend(list):\n",
    "    def __getattribute__(self, name):\n",
    "        if name == 'append':\n",
    "            raise AttributeError(name)\n",
    "        return list.__getattribute__(self, name)"
   ]
  },
  {
   "cell_type": "code",
   "execution_count": 88,
   "metadata": {},
   "outputs": [
    {
     "ename": "TypeError",
     "evalue": "'MyClass' object is not subscriptable",
     "output_type": "error",
     "traceback": [
      "\u001b[0;31m---------------------------------------------------------------------------\u001b[0m",
      "\u001b[0;31mTypeError\u001b[0m                                 Traceback (most recent call last)",
      "Cell \u001b[0;32mIn[88], line 7\u001b[0m\n\u001b[1;32m      5\u001b[0m n \u001b[39m=\u001b[39m MyClass()\n\u001b[1;32m      6\u001b[0m n\u001b[39m.\u001b[39m\u001b[39m__getitem__\u001b[39m \u001b[39m=\u001b[39m fake_get_item\n\u001b[0;32m----> 7\u001b[0m \u001b[39mprint\u001b[39m(n[\u001b[39m23\u001b[39;49m])\n",
      "\u001b[0;31mTypeError\u001b[0m: 'MyClass' object is not subscriptable"
     ]
    }
   ],
   "source": [
    "def fake_get_item(idx):\n",
    "    return idx\n",
    "class MyClass:\n",
    "    pass\n",
    "n = MyClass()\n",
    "n.__getitem__ = fake_get_item\n",
    "print(n[23])"
   ]
  },
  {
   "cell_type": "code",
   "execution_count": 89,
   "metadata": {},
   "outputs": [
    {
     "name": "stdout",
     "output_type": "stream",
     "text": [
      "/home/richard/Dev/pynut4/04_Object_Oriented_Python is readable by users outside the owner group\n"
     ]
    },
    {
     "ename": "TypeError",
     "evalue": "'>' not supported between instances of 'Permission' and 'Permission'",
     "output_type": "error",
     "traceback": [
      "\u001b[0;31m---------------------------------------------------------------------------\u001b[0m",
      "\u001b[0;31mTypeError\u001b[0m                                 Traceback (most recent call last)",
      "Cell \u001b[0;32mIn[89], line 28\u001b[0m\n\u001b[1;32m     24\u001b[0m     \u001b[39mprint\u001b[39m(\u001b[39mf\u001b[39m\u001b[39m'\u001b[39m\u001b[39m{\u001b[39;00mcur_dir\u001b[39m}\u001b[39;00m\u001b[39m is readable by users outside the owner group\u001b[39m\u001b[39m'\u001b[39m)\n\u001b[1;32m     26\u001b[0m \u001b[39m# the following raises TypeError: Flag enums do not support order \u001b[39;00m\n\u001b[1;32m     27\u001b[0m \u001b[39m# comparisons\u001b[39;00m\n\u001b[0;32m---> 28\u001b[0m \u001b[39mprint\u001b[39m(Permission\u001b[39m.\u001b[39;49mREAD_USR \u001b[39m>\u001b[39;49m Permission\u001b[39m.\u001b[39;49mREAD_OTH)\n",
      "\u001b[0;31mTypeError\u001b[0m: '>' not supported between instances of 'Permission' and 'Permission'"
     ]
    }
   ],
   "source": [
    "import enum\n",
    "import stat\n",
    "\n",
    "class Permission(enum.Flag):\n",
    "    EXEC_OTH = stat.S_IXOTH\n",
    "    WRITE_OTH = stat.S_IWOTH\n",
    "    READ_OTH = stat.S_IROTH\n",
    "    EXEC_GRP = stat.S_IXGRP\n",
    "    WRITE_GRP = stat.S_IWGRP\n",
    "    READ_GRP = stat.S_IRGRP\n",
    "    EXEC_USR = stat.S_IXUSR\n",
    "    WRITE_USR = stat.S_IWUSR\n",
    "    READ_USR = stat.S_IRUSR\n",
    "\n",
    "    @classmethod\n",
    "    def from_stat(cls, stat_result):\n",
    "        return cls(stat_result.st_mode & 0o777)\n",
    "\n",
    "from pathlib import Path\n",
    "\n",
    "cur_dir = Path.cwd()\n",
    "dir_perm = Permission.from_stat(cur_dir.stat())\n",
    "if dir_perm & Permission.READ_OTH:\n",
    "    print(f'{cur_dir} is readable by users outside the owner group')\n",
    "\n",
    "# the following raises TypeError: Flag enums do not support order \n",
    "# comparisons\n",
    "print(Permission.READ_USR > Permission.READ_OTH)"
   ]
  },
  {
   "cell_type": "code",
   "execution_count": null,
   "metadata": {},
   "outputs": [],
   "source": []
  }
 ],
 "metadata": {
  "kernelspec": {
   "display_name": "Python 3",
   "language": "python",
   "name": "python3"
  },
  "language_info": {
   "codemirror_mode": {
    "name": "ipython",
    "version": 3
   },
   "file_extension": ".py",
   "mimetype": "text/x-python",
   "name": "python",
   "nbconvert_exporter": "python",
   "pygments_lexer": "ipython3",
   "version": "3.10.12"
  },
  "orig_nbformat": 4
 },
 "nbformat": 4,
 "nbformat_minor": 2
}
