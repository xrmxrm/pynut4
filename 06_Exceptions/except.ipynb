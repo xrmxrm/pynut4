{
 "cells": [
  {
   "cell_type": "code",
   "execution_count": 1,
   "metadata": {},
   "outputs": [],
   "source": [
    "def cross_product(seq1, seq2):\n",
    "    if not seq1 or not seq2:\n",
    "        raise ValueError('Sequence arguments must be non-empty')\n",
    "    return [(x1, x2) for x1 in seq1 for x2 in seq2]\n",
    "\n",
    "\n"
   ]
  },
  {
   "cell_type": "code",
   "execution_count": 2,
   "metadata": {},
   "outputs": [
    {
     "name": "stdout",
     "output_type": "stream",
     "text": [
      "[(1, 4), (1, 5), (1, 6), (2, 4), (2, 5), (2, 6), (3, 4), (3, 5), (3, 6)]\n"
     ]
    }
   ],
   "source": [
    "print(cross_product([1, 2, 3], [4, 5, 6]))\n",
    "\n"
   ]
  },
  {
   "cell_type": "code",
   "execution_count": 3,
   "metadata": {},
   "outputs": [
    {
     "ename": "TypeError",
     "evalue": "'int' object is not iterable",
     "output_type": "error",
     "traceback": [
      "\u001b[0;31m---------------------------------------------------------------------------\u001b[0m",
      "\u001b[0;31mTypeError\u001b[0m                                 Traceback (most recent call last)",
      "Cell \u001b[0;32mIn[3], line 2\u001b[0m\n\u001b[1;32m      1\u001b[0m \u001b[39m# no need to check for this error, Python will raise TypeError\u001b[39;00m\n\u001b[0;32m----> 2\u001b[0m \u001b[39mprint\u001b[39m(cross_product(\u001b[39m1\u001b[39;49m, [\u001b[39m4\u001b[39;49m, \u001b[39m5\u001b[39;49m, \u001b[39m6\u001b[39;49m]))\n",
      "Cell \u001b[0;32mIn[1], line 4\u001b[0m, in \u001b[0;36mcross_product\u001b[0;34m(seq1, seq2)\u001b[0m\n\u001b[1;32m      2\u001b[0m \u001b[39mif\u001b[39;00m \u001b[39mnot\u001b[39;00m seq1 \u001b[39mor\u001b[39;00m \u001b[39mnot\u001b[39;00m seq2:\n\u001b[1;32m      3\u001b[0m     \u001b[39mraise\u001b[39;00m \u001b[39mValueError\u001b[39;00m(\u001b[39m'\u001b[39m\u001b[39mSequence arguments must be non-empty\u001b[39m\u001b[39m'\u001b[39m)\n\u001b[0;32m----> 4\u001b[0m \u001b[39mreturn\u001b[39;00m [(x1, x2) \u001b[39mfor\u001b[39;00m x1 \u001b[39min\u001b[39;00m seq1 \u001b[39mfor\u001b[39;00m x2 \u001b[39min\u001b[39;00m seq2]\n",
      "\u001b[0;31mTypeError\u001b[0m: 'int' object is not iterable"
     ]
    }
   ],
   "source": [
    "# no need to check for this error, Python will raise TypeError\n",
    "print(cross_product(1, [4, 5, 6]))\n",
    "\n"
   ]
  },
  {
   "cell_type": "code",
   "execution_count": 4,
   "metadata": {},
   "outputs": [
    {
     "ename": "ValueError",
     "evalue": "Sequence arguments must be non-empty",
     "output_type": "error",
     "traceback": [
      "\u001b[0;31m---------------------------------------------------------------------------\u001b[0m",
      "\u001b[0;31mValueError\u001b[0m                                Traceback (most recent call last)",
      "Cell \u001b[0;32mIn[4], line 2\u001b[0m\n\u001b[1;32m      1\u001b[0m \u001b[39m# cross_product will raise ValueError\u001b[39;00m\n\u001b[0;32m----> 2\u001b[0m \u001b[39mprint\u001b[39m(cross_product([\u001b[39m1\u001b[39;49m, \u001b[39m2\u001b[39;49m, \u001b[39m3\u001b[39;49m], []))\n",
      "Cell \u001b[0;32mIn[1], line 3\u001b[0m, in \u001b[0;36mcross_product\u001b[0;34m(seq1, seq2)\u001b[0m\n\u001b[1;32m      1\u001b[0m \u001b[39mdef\u001b[39;00m \u001b[39mcross_product\u001b[39m(seq1, seq2):\n\u001b[1;32m      2\u001b[0m     \u001b[39mif\u001b[39;00m \u001b[39mnot\u001b[39;00m seq1 \u001b[39mor\u001b[39;00m \u001b[39mnot\u001b[39;00m seq2:\n\u001b[0;32m----> 3\u001b[0m         \u001b[39mraise\u001b[39;00m \u001b[39mValueError\u001b[39;00m(\u001b[39m'\u001b[39m\u001b[39mSequence arguments must be non-empty\u001b[39m\u001b[39m'\u001b[39m)\n\u001b[1;32m      4\u001b[0m     \u001b[39mreturn\u001b[39;00m [(x1, x2) \u001b[39mfor\u001b[39;00m x1 \u001b[39min\u001b[39;00m seq1 \u001b[39mfor\u001b[39;00m x2 \u001b[39min\u001b[39;00m seq2]\n",
      "\u001b[0;31mValueError\u001b[0m: Sequence arguments must be non-empty"
     ]
    }
   ],
   "source": [
    "# cross_product will raise ValueError\n",
    "print(cross_product([1, 2, 3], []))"
   ]
  },
  {
   "cell_type": "code",
   "execution_count": 5,
   "metadata": {},
   "outputs": [
    {
     "name": "stdout",
     "output_type": "stream",
     "text": [
      "caught divide-by-0 attempt\n",
      "caught an exception\n",
      "'ABC' is  some kind of string\n"
     ]
    }
   ],
   "source": [
    "try:\n",
    "    1/0\n",
    "    print('not executed')\n",
    "except ZeroDivisionError:\n",
    "    print('caught divide-by-0 attempt')\n",
    "\n",
    "\n",
    "try:\n",
    "    try:\n",
    "        1/0\n",
    "    except:\n",
    "        print('caught an exception')\n",
    "except ZeroDivisionError:\n",
    "    print('caught divide-by-0 attempt')\n",
    "\n",
    "\n",
    "value = 'ABC'\n",
    "print(repr(value), 'is ', end=' ')\n",
    "try:\n",
    "    value + 0\n",
    "except TypeError:\n",
    "    # not a number, maybe a string...?\n",
    "    try:\n",
    "        value + ''\n",
    "    except TypeError:\n",
    "        print('neither a number nor a string')\n",
    "    else:\n",
    "        print('some kind of string')\n",
    "else:\n",
    "    print('some kind of number')"
   ]
  },
  {
   "cell_type": "code",
   "execution_count": 8,
   "metadata": {},
   "outputs": [
    {
     "name": "stdout",
     "output_type": "stream",
     "text": [
      "<sometag>\n",
      "  some output\n",
      "</sometag>\n"
     ]
    }
   ],
   "source": [
    "class enclosing_tag:\n",
    "    def __init__(self, tagname):\n",
    "        self.tagname = tagname\n",
    "    def __enter__(self):\n",
    "        print(f'<{self.tagname}>', end='')\n",
    "    def __exit__(self, etyp, einst, etb):\n",
    "        print(f'</{self.tagname}>')\n",
    "\n",
    "with enclosing_tag('sometag'):\n",
    "    print('\\n  some output')\n"
   ]
  },
  {
   "cell_type": "code",
   "execution_count": 10,
   "metadata": {},
   "outputs": [],
   "source": [
    "import contextlib\n",
    "@contextlib.contextmanager\n",
    "def enclosing_tag(tagname):\n",
    "    print(f'<{tagname}>', end='')\n",
    "    try:\n",
    "        yield\n",
    "    finally:\n",
    "        print(f'</{tagname}>')\n"
   ]
  },
  {
   "cell_type": "code",
   "execution_count": 11,
   "metadata": {},
   "outputs": [
    {
     "name": "stdout",
     "output_type": "stream",
     "text": [
      "<sometag>\n",
      "  some output\n",
      "</sometag>\n"
     ]
    }
   ],
   "source": [
    "with enclosing_tag('sometag'):\n",
    "    print('\\n  some output')\n"
   ]
  },
  {
   "cell_type": "code",
   "execution_count": 12,
   "metadata": {},
   "outputs": [],
   "source": [
    "def f():\n",
    "    print('in f, before 1/0')\n",
    "    1/0    # raises a ZeroDivisionError exception\n",
    "    print('in f, after 1/0')\n",
    "def g():\n",
    "    print('in g, before f()')\n",
    "    f()\n",
    "    print('in g, after f()')\n",
    "def h():\n",
    "    print('in h, before g()')\n",
    "    try:\n",
    "        g()\n",
    "        print('in h, after g()')\n",
    "    except ZeroDivisionError:\n",
    "        print('ZD exception caught')\n",
    "    print('function h ends')"
   ]
  },
  {
   "cell_type": "code",
   "execution_count": 14,
   "metadata": {},
   "outputs": [
    {
     "name": "stdout",
     "output_type": "stream",
     "text": [
      "in h, before g()\n",
      "in g, before f()\n",
      "in f, before 1/0\n",
      "ZD exception caught\n",
      "function h ends\n"
     ]
    }
   ],
   "source": [
    "h()"
   ]
  },
  {
   "cell_type": "code",
   "execution_count": null,
   "metadata": {},
   "outputs": [],
   "source": []
  }
 ],
 "metadata": {
  "kernelspec": {
   "display_name": "Python 3",
   "language": "python",
   "name": "python3"
  },
  "language_info": {
   "codemirror_mode": {
    "name": "ipython",
    "version": 3
   },
   "file_extension": ".py",
   "mimetype": "text/x-python",
   "name": "python",
   "nbconvert_exporter": "python",
   "pygments_lexer": "ipython3",
   "version": "3.10.12"
  },
  "orig_nbformat": 4
 },
 "nbformat": 4,
 "nbformat_minor": 2
}
