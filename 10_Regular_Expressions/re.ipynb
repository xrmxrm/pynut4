{
 "cells": [
  {
   "cell_type": "code",
   "execution_count": 1,
   "metadata": {},
   "outputs": [
    {
     "name": "stdout",
     "output_type": "stream",
     "text": [
      "['cittá']\n",
      "[b'citt']\n"
     ]
    }
   ],
   "source": [
    "import re\n",
    "print(re.findall(r'\\w+', 'cittá'))# prints ['cittá']\n",
    "print(re.findall(rb'\\w+', 'cittá'.encode())) # prints [b'citt']\n"
   ]
  },
  {
   "cell_type": "code",
   "execution_count": 4,
   "metadata": {},
   "outputs": [
    {
     "data": {
      "text/plain": [
       "'abcdefghijklmnopqrstuvwxyzABCDEFGHIJKLMNOPQRSTUVWXYZ'"
      ]
     },
     "execution_count": 4,
     "metadata": {},
     "output_type": "execute_result"
    }
   ],
   "source": [
    "import string\n",
    "string.ascii_letters"
   ]
  },
  {
   "cell_type": "code",
   "execution_count": 5,
   "metadata": {},
   "outputs": [
    {
     "name": "stdout",
     "output_type": "stream",
     "text": [
      "some lines end with digits\n"
     ]
    }
   ],
   "source": [
    "import re\n",
    "digatend = re.compile(r'\\d$', re.MULTILINE)\n",
    "with open('afile.txt') as f:\n",
    "    if digatend.search(f.read()):\n",
    "        print('some lines end with digits')\n",
    "    else:\n",
    "        print('no line ends with digits')\n"
   ]
  },
  {
   "cell_type": "code",
   "execution_count": 7,
   "metadata": {},
   "outputs": [
    {
     "name": "stdout",
     "output_type": "stream",
     "text": [
      "The Life and Death of King Richard III\n",
      "by William Shakespeare\n",
      "\n",
      "ACT I\n",
      "\n",
      "Scene 1\n",
      "\n",
      "Now is the winter of our discontent\n",
      "Made glorious summer by this son of York,\n",
      "And all the clouds that loured upon our house\n",
      "In the deep bosom of the ocean buried.\n",
      "\n"
     ]
    }
   ],
   "source": [
    "with open('afile.txt') as f:\n",
    "    for line in f: print(line, end=\"\")\n"
   ]
  },
  {
   "cell_type": "code",
   "execution_count": 8,
   "metadata": {},
   "outputs": [
    {
     "name": "stdout",
     "output_type": "stream",
     "text": [
      "match fails\n",
      "search succeeds\n"
     ]
    }
   ],
   "source": [
    "r1 = re.compile(r'box')\n",
    "if r1.match('inbox'):\n",
    "    print('match succeeds')\n",
    "else:\n",
    "    print('match fails')  # prints: match fails\n",
    "\n",
    "if r1.search('inbox'):\n",
    "    print('search succeeds')  # prints: search succeeds\n",
    "else:\n",
    "    print('search fails')\n"
   ]
  },
  {
   "cell_type": "code",
   "execution_count": 14,
   "metadata": {},
   "outputs": [],
   "source": [
    "statement = \"Je t'aime Suzette\""
   ]
  },
  {
   "cell_type": "code",
   "execution_count": 15,
   "metadata": {},
   "outputs": [
    {
     "name": "stdout",
     "output_type": "stream",
     "text": [
      "Il aime Suzette\n"
     ]
    }
   ],
   "source": [
    "if m := re.match(r\"I love (\\w+)\", statement):\n",
    "    print(f\"He loves {m.group(1)}\")\n",
    "\n",
    "elif m := re.match(r\"Ich liebe (\\w+)\", statement):\n",
    "    print(f\"Er liebt {m.group(1)}\")\n",
    "\n",
    "elif m := re.match(r\"Je t'aime (\\w+)\", statement):\n",
    "    print(f\"Il aime {m.group(1)}\")\n"
   ]
  },
  {
   "cell_type": "code",
   "execution_count": 16,
   "metadata": {},
   "outputs": [
    {
     "name": "stdout",
     "output_type": "stream",
     "text": [
      "The\n",
      "Life\n",
      "and\n",
      "Death\n",
      "of\n",
      "King\n",
      "Richard\n",
      "III\n",
      "by\n",
      "William\n",
      "Shakespeare\n",
      "ACT\n",
      "I\n",
      "Scene\n",
      "1\n",
      "Now\n",
      "is\n",
      "the\n",
      "winter\n",
      "of\n",
      "our\n",
      "discontent\n",
      "Made\n",
      "glorious\n",
      "summer\n",
      "by\n",
      "this\n",
      "son\n",
      "of\n",
      "York\n",
      "And\n",
      "all\n",
      "the\n",
      "clouds\n",
      "that\n",
      "loured\n",
      "upon\n",
      "our\n",
      "house\n",
      "In\n",
      "the\n",
      "deep\n",
      "bosom\n",
      "of\n",
      "the\n",
      "ocean\n",
      "buried\n"
     ]
    }
   ],
   "source": [
    "reword = re.compile(r'\\w+')\n",
    "with open('afile.txt') as f:\n",
    "    for aword in reword.findall(f.read()):\n",
    "        print(aword)\n"
   ]
  },
  {
   "cell_type": "code",
   "execution_count": 17,
   "metadata": {},
   "outputs": [
    {
     "name": "stdout",
     "output_type": "stream",
     "text": [
      "The III\n",
      "by Shakespeare\n",
      "ACT I\n",
      "Scene 1\n",
      "Now discontent\n",
      "Made York\n",
      "And house\n",
      "In buried\n"
     ]
    }
   ],
   "source": [
    "first_last = re.compile(r'^\\W*(\\w+)\\b.*\\b(\\w+)\\W*$',re.MULTILINE)\n",
    "with open('afile.txt') as f:\n",
    "    for first, last in first_last.findall(f.read()):\n",
    "       print(first, last)\n"
   ]
  },
  {
   "cell_type": "code",
   "execution_count": null,
   "metadata": {},
   "outputs": [],
   "source": []
  }
 ],
 "metadata": {
  "kernelspec": {
   "display_name": "Python 3",
   "language": "python",
   "name": "python3"
  },
  "language_info": {
   "codemirror_mode": {
    "name": "ipython",
    "version": 3
   },
   "file_extension": ".py",
   "mimetype": "text/x-python",
   "name": "python",
   "nbconvert_exporter": "python",
   "pygments_lexer": "ipython3",
   "version": "3.10.12"
  },
  "orig_nbformat": 4
 },
 "nbformat": 4,
 "nbformat_minor": 2
}
